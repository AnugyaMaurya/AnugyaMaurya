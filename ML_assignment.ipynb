{
  "nbformat": 4,
  "nbformat_minor": 0,
  "metadata": {
    "colab": {
      "provenance": [],
      "gpuType": "T4",
      "authorship_tag": "ABX9TyMTj50dVFttxunH5LojSvdO",
      "include_colab_link": true
    },
    "kernelspec": {
      "name": "python3",
      "display_name": "Python 3"
    },
    "language_info": {
      "name": "python"
    },
    "accelerator": "GPU"
  },
  "cells": [
    {
      "cell_type": "markdown",
      "metadata": {
        "id": "view-in-github",
        "colab_type": "text"
      },
      "source": [
        "<a href=\"https://colab.research.google.com/github/AnugyaMaurya/AnugyaMaurya/blob/main/ML_assignment.ipynb\" target=\"_parent\"><img src=\"https://colab.research.google.com/assets/colab-badge.svg\" alt=\"Open In Colab\"/></a>"
      ]
    },
    {
      "cell_type": "code",
      "execution_count": null,
      "metadata": {
        "id": "urkRz316Z_4E"
      },
      "outputs": [],
      "source": [
        "import pandas as pd"
      ]
    },
    {
      "cell_type": "code",
      "source": [
        "# Step 1: Upload the Zip File\n",
        "from google.colab import files\n",
        "\n",
        "# Upload the zip file\n",
        "uploaded = files.upload()\n",
        "\n",
        "# Step 2: Extract the Zip File\n",
        "import zipfile\n",
        "import os\n",
        "\n",
        "# Get the name of the uploaded file\n",
        "zip_file_name = list(uploaded.keys())[0]\n",
        "\n",
        "# Define the directory where you want to extract the files\n",
        "extract_dir = 'extracted_files'\n",
        "\n",
        "# Create the directory if it doesn't exist\n",
        "os.makedirs(extract_dir, exist_ok=True)\n",
        "\n",
        "# Extract the zip file\n",
        "with zipfile.ZipFile(zip_file_name, 'r') as zip_ref:\n",
        "    zip_ref.extractall(extract_dir)\n",
        "\n",
        "# List the files in the extracted directory\n",
        "extracted_files = os.listdir(extract_dir)\n",
        "print('Extracted files:', extracted_files)\n"
      ],
      "metadata": {
        "colab": {
          "base_uri": "https://localhost:8080/",
          "height": 90
        },
        "id": "ev0X43cBfEye",
        "outputId": "3efcd4f9-6b10-4eab-a2d9-bbdff768f851"
      },
      "execution_count": 2,
      "outputs": [
        {
          "output_type": "display_data",
          "data": {
            "text/plain": [
              "<IPython.core.display.HTML object>"
            ],
            "text/html": [
              "\n",
              "     <input type=\"file\" id=\"files-85164070-dc2f-409a-9460-0b1b8c2e2e6d\" name=\"files[]\" multiple disabled\n",
              "        style=\"border:none\" />\n",
              "     <output id=\"result-85164070-dc2f-409a-9460-0b1b8c2e2e6d\">\n",
              "      Upload widget is only available when the cell has been executed in the\n",
              "      current browser session. Please rerun this cell to enable.\n",
              "      </output>\n",
              "      <script>// Copyright 2017 Google LLC\n",
              "//\n",
              "// Licensed under the Apache License, Version 2.0 (the \"License\");\n",
              "// you may not use this file except in compliance with the License.\n",
              "// You may obtain a copy of the License at\n",
              "//\n",
              "//      http://www.apache.org/licenses/LICENSE-2.0\n",
              "//\n",
              "// Unless required by applicable law or agreed to in writing, software\n",
              "// distributed under the License is distributed on an \"AS IS\" BASIS,\n",
              "// WITHOUT WARRANTIES OR CONDITIONS OF ANY KIND, either express or implied.\n",
              "// See the License for the specific language governing permissions and\n",
              "// limitations under the License.\n",
              "\n",
              "/**\n",
              " * @fileoverview Helpers for google.colab Python module.\n",
              " */\n",
              "(function(scope) {\n",
              "function span(text, styleAttributes = {}) {\n",
              "  const element = document.createElement('span');\n",
              "  element.textContent = text;\n",
              "  for (const key of Object.keys(styleAttributes)) {\n",
              "    element.style[key] = styleAttributes[key];\n",
              "  }\n",
              "  return element;\n",
              "}\n",
              "\n",
              "// Max number of bytes which will be uploaded at a time.\n",
              "const MAX_PAYLOAD_SIZE = 100 * 1024;\n",
              "\n",
              "function _uploadFiles(inputId, outputId) {\n",
              "  const steps = uploadFilesStep(inputId, outputId);\n",
              "  const outputElement = document.getElementById(outputId);\n",
              "  // Cache steps on the outputElement to make it available for the next call\n",
              "  // to uploadFilesContinue from Python.\n",
              "  outputElement.steps = steps;\n",
              "\n",
              "  return _uploadFilesContinue(outputId);\n",
              "}\n",
              "\n",
              "// This is roughly an async generator (not supported in the browser yet),\n",
              "// where there are multiple asynchronous steps and the Python side is going\n",
              "// to poll for completion of each step.\n",
              "// This uses a Promise to block the python side on completion of each step,\n",
              "// then passes the result of the previous step as the input to the next step.\n",
              "function _uploadFilesContinue(outputId) {\n",
              "  const outputElement = document.getElementById(outputId);\n",
              "  const steps = outputElement.steps;\n",
              "\n",
              "  const next = steps.next(outputElement.lastPromiseValue);\n",
              "  return Promise.resolve(next.value.promise).then((value) => {\n",
              "    // Cache the last promise value to make it available to the next\n",
              "    // step of the generator.\n",
              "    outputElement.lastPromiseValue = value;\n",
              "    return next.value.response;\n",
              "  });\n",
              "}\n",
              "\n",
              "/**\n",
              " * Generator function which is called between each async step of the upload\n",
              " * process.\n",
              " * @param {string} inputId Element ID of the input file picker element.\n",
              " * @param {string} outputId Element ID of the output display.\n",
              " * @return {!Iterable<!Object>} Iterable of next steps.\n",
              " */\n",
              "function* uploadFilesStep(inputId, outputId) {\n",
              "  const inputElement = document.getElementById(inputId);\n",
              "  inputElement.disabled = false;\n",
              "\n",
              "  const outputElement = document.getElementById(outputId);\n",
              "  outputElement.innerHTML = '';\n",
              "\n",
              "  const pickedPromise = new Promise((resolve) => {\n",
              "    inputElement.addEventListener('change', (e) => {\n",
              "      resolve(e.target.files);\n",
              "    });\n",
              "  });\n",
              "\n",
              "  const cancel = document.createElement('button');\n",
              "  inputElement.parentElement.appendChild(cancel);\n",
              "  cancel.textContent = 'Cancel upload';\n",
              "  const cancelPromise = new Promise((resolve) => {\n",
              "    cancel.onclick = () => {\n",
              "      resolve(null);\n",
              "    };\n",
              "  });\n",
              "\n",
              "  // Wait for the user to pick the files.\n",
              "  const files = yield {\n",
              "    promise: Promise.race([pickedPromise, cancelPromise]),\n",
              "    response: {\n",
              "      action: 'starting',\n",
              "    }\n",
              "  };\n",
              "\n",
              "  cancel.remove();\n",
              "\n",
              "  // Disable the input element since further picks are not allowed.\n",
              "  inputElement.disabled = true;\n",
              "\n",
              "  if (!files) {\n",
              "    return {\n",
              "      response: {\n",
              "        action: 'complete',\n",
              "      }\n",
              "    };\n",
              "  }\n",
              "\n",
              "  for (const file of files) {\n",
              "    const li = document.createElement('li');\n",
              "    li.append(span(file.name, {fontWeight: 'bold'}));\n",
              "    li.append(span(\n",
              "        `(${file.type || 'n/a'}) - ${file.size} bytes, ` +\n",
              "        `last modified: ${\n",
              "            file.lastModifiedDate ? file.lastModifiedDate.toLocaleDateString() :\n",
              "                                    'n/a'} - `));\n",
              "    const percent = span('0% done');\n",
              "    li.appendChild(percent);\n",
              "\n",
              "    outputElement.appendChild(li);\n",
              "\n",
              "    const fileDataPromise = new Promise((resolve) => {\n",
              "      const reader = new FileReader();\n",
              "      reader.onload = (e) => {\n",
              "        resolve(e.target.result);\n",
              "      };\n",
              "      reader.readAsArrayBuffer(file);\n",
              "    });\n",
              "    // Wait for the data to be ready.\n",
              "    let fileData = yield {\n",
              "      promise: fileDataPromise,\n",
              "      response: {\n",
              "        action: 'continue',\n",
              "      }\n",
              "    };\n",
              "\n",
              "    // Use a chunked sending to avoid message size limits. See b/62115660.\n",
              "    let position = 0;\n",
              "    do {\n",
              "      const length = Math.min(fileData.byteLength - position, MAX_PAYLOAD_SIZE);\n",
              "      const chunk = new Uint8Array(fileData, position, length);\n",
              "      position += length;\n",
              "\n",
              "      const base64 = btoa(String.fromCharCode.apply(null, chunk));\n",
              "      yield {\n",
              "        response: {\n",
              "          action: 'append',\n",
              "          file: file.name,\n",
              "          data: base64,\n",
              "        },\n",
              "      };\n",
              "\n",
              "      let percentDone = fileData.byteLength === 0 ?\n",
              "          100 :\n",
              "          Math.round((position / fileData.byteLength) * 100);\n",
              "      percent.textContent = `${percentDone}% done`;\n",
              "\n",
              "    } while (position < fileData.byteLength);\n",
              "  }\n",
              "\n",
              "  // All done.\n",
              "  yield {\n",
              "    response: {\n",
              "      action: 'complete',\n",
              "    }\n",
              "  };\n",
              "}\n",
              "\n",
              "scope.google = scope.google || {};\n",
              "scope.google.colab = scope.google.colab || {};\n",
              "scope.google.colab._files = {\n",
              "  _uploadFiles,\n",
              "  _uploadFilesContinue,\n",
              "};\n",
              "})(self);\n",
              "</script> "
            ]
          },
          "metadata": {}
        },
        {
          "output_type": "stream",
          "name": "stdout",
          "text": [
            "Saving archive (2).zip to archive (2) (1).zip\n",
            "Extracted files: ['val', 'train']\n"
          ]
        }
      ]
    },
    {
      "cell_type": "code",
      "source": [
        "import os\n",
        "\n",
        "# List all files in the extracted directory\n",
        "extracted_files = os.listdir(extract_dir)\n",
        "print('Extracted files:', extracted_files)\n"
      ],
      "metadata": {
        "colab": {
          "base_uri": "https://localhost:8080/"
        },
        "id": "W_9BNVswgHBX",
        "outputId": "4600bf46-b1ba-4436-ecee-053de8ebe196"
      },
      "execution_count": 3,
      "outputs": [
        {
          "output_type": "stream",
          "name": "stdout",
          "text": [
            "Extracted files: ['val', 'train']\n"
          ]
        }
      ]
    },
    {
      "cell_type": "code",
      "source": [
        "import os\n",
        "import pandas as pd\n",
        "\n",
        "# Define the directories\n",
        "train_dir = os.path.join('extracted_files', 'train')\n",
        "val_dir = os.path.join('extracted_files', 'val')\n",
        "\n",
        "# List files in the train and val directories\n",
        "train_files = os.listdir(train_dir)\n",
        "val_files = os.listdir(val_dir)\n",
        "\n",
        "print('Train files:', train_files)\n",
        "print('Validation files:', val_files)\n",
        "\n",
        "# Define the path to the Excel file (assuming it's in the 'train' directory)\n",
        "excel_file_name = 'train.xlsx'  # Replace with the actual file name if different\n",
        "excel_file_path = os.path.join(train_dir, excel_file_name)\n",
        "\n",
        "# Check if the file exists\n",
        "if os.path.exists(excel_file_path):\n",
        "    # Load the Excel file into a DataFrame\n",
        "    df = pd.read_excel(excel_file_path)\n",
        "\n",
        "    # Display the first few rows of the DataFrame\n",
        "    print(df.head())\n",
        "else:\n",
        "    print(f\"File {excel_file_name} not found in {train_dir}\")\n"
      ],
      "metadata": {
        "colab": {
          "base_uri": "https://localhost:8080/"
        },
        "id": "8lHFroivsfxg",
        "outputId": "eb1f0ae7-38a3-424e-a23d-dc30d4b6da96"
      },
      "execution_count": 4,
      "outputs": [
        {
          "output_type": "stream",
          "name": "stdout",
          "text": [
            "Train files: ['img', 'label']\n",
            "Validation files: ['img', 'label']\n",
            "File train.xlsx not found in extracted_files/train\n"
          ]
        }
      ]
    },
    {
      "cell_type": "code",
      "source": [
        "from tensorflow.keras.callbacks import ModelCheckpoint\n",
        "\n",
        "import os\n",
        "import numpy as np\n",
        "from PIL import Image\n",
        "\n",
        "# Define paths\n",
        "train_image_dir = os.path.join('extracted_files', 'train', 'img')\n",
        "train_label_dir = os.path.join('extracted_files', 'train', 'label')\n",
        "val_image_dir = os.path.join('extracted_files', 'val', 'img')\n",
        "val_label_dir = os.path.join('extracted_files', 'val', 'label')\n",
        "\n",
        "# Function to load and preprocess images and labels in batches\n",
        "def load_images_and_labels_in_batches(image_dir, label_dir, batch_size=32):\n",
        "    images_batches = []\n",
        "    labels_batches = []\n",
        "\n",
        "    image_files = sorted(os.listdir(image_dir))\n",
        "    label_files = sorted(os.listdir(label_dir))\n",
        "    num_batches = len(image_files) // batch_size\n",
        "\n",
        "    for i in range(num_batches):\n",
        "        images_batch = []\n",
        "        labels_batch = []\n",
        "        start_idx = i * batch_size\n",
        "        end_idx = start_idx + batch_size\n",
        "\n",
        "        for img_file, lbl_file in zip(image_files[start_idx:end_idx], label_files[start_idx:end_idx]):\n",
        "            img_path = os.path.join(image_dir, img_file)\n",
        "            lbl_path = os.path.join(label_dir, lbl_file)\n",
        "\n",
        "            # Read and resize the images\n",
        "            image = Image.open(img_path).convert('RGB')\n",
        "            image = image.resize((256, 256))\n",
        "            images_batch.append(np.array(image))\n",
        "\n",
        "            # Read and resize the labels (assuming they are single-channel grayscale)\n",
        "            label = Image.open(lbl_path).convert('L')\n",
        "            label = label.resize((256, 256))\n",
        "            labels_batch.append(np.array(label))\n",
        "\n",
        "        images_batches.append(np.array(images_batch))\n",
        "        labels_batches.append(np.array(labels_batch))\n",
        "\n",
        "    return images_batches, labels_batches\n",
        "\n",
        "train_images_batches, train_labels_batches = load_images_and_labels_in_batches(train_image_dir, train_label_dir)\n",
        "val_images_batches, val_labels_batches = load_images_and_labels_in_batches(val_image_dir, val_label_dir)\n",
        "\n",
        "# Normalize images and labels in batches\n",
        "for i in range(len(train_images_batches)):\n",
        "    train_images_batches[i] = train_images_batches[i] / 255.0\n",
        "\n",
        "for i in range(len(val_images_batches)):\n",
        "    val_images_batches[i] = val_images_batches[i] / 255.0\n",
        "\n",
        "# Ensure labels are binary (0 or 1) in batches\n",
        "for i in range(len(train_labels_batches)):\n",
        "    train_labels_batches[i] = (train_labels_batches[i] > 0).astype(np.uint8)\n",
        "\n",
        "for i in range(len(val_labels_batches)):\n",
        "    val_labels_batches[i] = (val_labels_batches[i] > 0).astype(np.uint8)\n",
        "\n",
        "# Create data generators\n",
        "train_generator = zip(train_images_batches, train_labels_batches)\n",
        "val_generator = zip(val_images_batches, val_labels_batches)\n",
        "\n",
        "# Create callbacks\n",
        "checkpoint = ModelCheckpoint('road_segmentation_model.h5', save_best_only=True)\n",
        "\n",
        "# Train the model using generators\n",
        "history = model.fit(train_generator,\n",
        "                    validation_data=val_generator,\n",
        "                    epochs=20,\n",
        "                    steps_per_epoch=len(train_images_batches),\n",
        "                    validation_steps=len(val_images_batches),\n",
        "                    callbacks=[checkpoint])\n"
      ],
      "metadata": {
        "colab": {
          "base_uri": "https://localhost:8080/"
        },
        "id": "JaaEGt5QMPjL",
        "outputId": "62f4872b-0bc4-4359-b35c-9f2aa20c327f"
      },
      "execution_count": 7,
      "outputs": [
        {
          "output_type": "stream",
          "name": "stdout",
          "text": [
            "Epoch 1/20\n",
            "92/92 [==============================] - ETA: 0s - loss: 0.0785 - accuracy: 0.9853"
          ]
        },
        {
          "output_type": "stream",
          "name": "stderr",
          "text": [
            "/usr/local/lib/python3.10/dist-packages/keras/src/engine/training.py:3103: UserWarning: You are saving your model as an HDF5 file via `model.save()`. This file format is considered legacy. We recommend using instead the native Keras format, e.g. `model.save('my_model.keras')`.\n",
            "  saving_api.save_model(\n"
          ]
        },
        {
          "output_type": "stream",
          "name": "stdout",
          "text": [
            "\b\b\b\b\b\b\b\b\b\b\b\b\b\b\b\b\b\b\b\b\b\b\b\b\b\b\b\b\b\b\b\b\b\b\b\b\b\b\b\b\b\b\b\b\b\b\b\b\b\b\b\b\b\b\b\b\b\b\b\b\b\b\b\b\b\b\b\b\b\b\b\b\b\b\b\b\b\b\b\b\b\b\r92/92 [==============================] - 229s 2s/step - loss: 0.0785 - accuracy: 0.9853 - val_loss: 0.0798 - val_accuracy: 0.9948\n",
            "Epoch 2/20\n"
          ]
        },
        {
          "output_type": "stream",
          "name": "stderr",
          "text": [
            "WARNING:tensorflow:Your input ran out of data; interrupting training. Make sure that your dataset or generator can generate at least `steps_per_epoch * epochs` batches (in this case, 1840 batches). You may need to use the repeat() function when building your dataset.\n",
            "WARNING:tensorflow:Your input ran out of data; interrupting training. Make sure that your dataset or generator can generate at least `steps_per_epoch * epochs` batches (in this case, 15 batches). You may need to use the repeat() function when building your dataset.\n",
            "WARNING:tensorflow:Can save best model only with val_loss available, skipping.\n"
          ]
        },
        {
          "output_type": "stream",
          "name": "stdout",
          "text": [
            "\r92/92 [==============================] - 0s 2ms/step - loss: 0.0000e+00 - accuracy: 0.0000e+00\n"
          ]
        }
      ]
    },
    {
      "cell_type": "code",
      "source": [
        "model.save('road_segmentation_model.h5')"
      ],
      "metadata": {
        "id": "KmRHYoLbOfC2"
      },
      "execution_count": 8,
      "outputs": []
    },
    {
      "cell_type": "code",
      "source": [
        "# Convert the model to TensorFlow Lite\n",
        "converter = tf.lite.TFLiteConverter.from_keras_model(model)\n",
        "tflite_model = converter.convert()\n",
        "\n",
        "# Save the model\n",
        "with open('road_segmentation_model.tflite', 'wb') as f:\n",
        "    f.write(tflite_model)\n"
      ],
      "metadata": {
        "id": "e__4ZIOUQKkx"
      },
      "execution_count": 9,
      "outputs": []
    },
    {
      "cell_type": "code",
      "source": [
        "import cv2\n",
        "\n",
        "# Load the TFLite model\n",
        "interpreter = tf.lite.Interpreter(model_path='road_segmentation_model.tflite')\n",
        "interpreter.allocate_tensors()\n",
        "\n",
        "# Get input and output details\n",
        "input_details = interpreter.get_input_details()\n",
        "output_details = interpreter.get_output_details()\n",
        "\n",
        "# Function to preprocess frame\n",
        "def preprocess_frame(frame):\n",
        "    frame_resized = cv2.resize(frame, (256, 256))\n",
        "    frame_normalized = frame_resized / 255.0\n",
        "    frame_expanded = np.expand_dims(frame_normalized, axis=0).astype(np.float32)\n",
        "    return frame_expanded\n",
        "\n",
        "# Function to postprocess the output\n",
        "def postprocess_output(output):\n",
        "    output = output.squeeze()\n",
        "    output_resized = cv2.resize(output, (frame.shape[1], frame.shape[0]))\n",
        "    output_binary = (output_resized > 0.5).astype(np.uint8) * 255\n",
        "    return output_binary\n",
        "\n",
        "# Open video capture (0 for webcam, or provide video file path)\n",
        "cap = cv2.VideoCapture(0)\n",
        "\n",
        "while cap.isOpened():\n",
        "    ret, frame = cap.read()\n",
        "    if not ret:\n",
        "        break\n",
        "\n",
        "    input_data = preprocess_frame(frame)\n",
        "    interpreter.set_tensor(input_details[0]['index'], input_data)\n",
        "    interpreter.invoke()\n",
        "    output_data = interpreter.get_tensor(output_details[0]['index'])\n",
        "\n",
        "    mask = postprocess_output(output_data)\n",
        "    mask_colored = cv2.applyColorMap(mask, cv2.COLORMAP_JET)\n",
        "    overlay = cv2.addWeighted(frame, 0.7, mask_colored, 0.3, 0)\n",
        "\n",
        "    cv2.imshow('Road Segmentation', overlay)\n",
        "\n",
        "    if cv2.waitKey(1) & 0xFF == ord('q'):\n",
        "        break\n",
        "\n",
        "cap.release()\n",
        "cv2.destroyAllWindows()\n"
      ],
      "metadata": {
        "id": "AEEMMSXgQQkP"
      },
      "execution_count": 10,
      "outputs": []
    },
    {
      "cell_type": "code",
      "source": [],
      "metadata": {
        "id": "y_wUka8GQbN8"
      },
      "execution_count": null,
      "outputs": []
    }
  ]
}